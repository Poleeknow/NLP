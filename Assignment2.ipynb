{
  "cells": [
    {
      "cell_type": "markdown",
      "metadata": {
        "id": "DIgM6C9HYUhm"
      },
      "source": [
        "# Context-sensitive Spelling Correction\n",
        "\n",
        "The goal of the assignment is to implement context-sensitive spelling correction. The input of the code will be a set of text lines and the output will be the same lines with spelling mistakes fixed.\n",
        "\n",
        "Submit the solution of the assignment to Moodle as a link to your GitHub repository containing this notebook.\n",
        "\n",
        "Useful links:\n",
        "- [Norvig's solution](https://norvig.com/spell-correct.html)\n",
        "- [Norvig's dataset](https://norvig.com/big.txt)\n",
        "- [Ngrams data](https://www.ngrams.info/download_coca.asp)\n",
        "\n",
        "Grading:\n",
        "- 60 points - Implement spelling correction\n",
        "- 20 points - Justify your decisions\n",
        "- 20 points - Evaluate on a test set\n"
      ]
    },
    {
      "cell_type": "markdown",
      "metadata": {
        "id": "x-vb8yFOGRDF"
      },
      "source": [
        "## Implement context-sensitive spelling correction\n",
        "\n",
        "Your task is to implement context-sensitive spelling corrector using N-gram language model. The idea is to compute conditional probabilities of possible correction options. For example, the phrase \"dking sport\" should be fixed as \"doing sport\" not \"dying sport\", while \"dking species\" -- as \"dying species\".\n",
        "\n",
        "The best way to start is to analyze [Norvig's solution](https://norvig.com/spell-correct.html) and [N-gram Language Models](https://web.stanford.edu/~jurafsky/slp3/3.pdf).\n",
        "\n",
        "You may also want to implement:\n",
        "- spell-checking for a concrete language - Russian, Tatar, etc. - any one you know, such that the solution accounts for language specifics,\n",
        "- some recent (or not very recent) paper on this topic,\n",
        "- solution which takes into account keyboard layout and associated misspellings,\n",
        "- efficiency improvement to make the solution faster,\n",
        "- any other idea of yours to improve the Norvig’s solution.\n",
        "\n",
        "IMPORTANT:  \n",
        "Your project should not be a mere code copy-paste from somewhere. You must provide:\n",
        "- Your implementation\n",
        "- Analysis of why the implemented approach is suggested\n",
        "- Improvements of the original approach that you have chosen to implement"
      ]
    },
    {
      "cell_type": "code",
      "execution_count": 88,
      "metadata": {},
      "outputs": [],
      "source": [
        "def open_data_grams(path):\n",
        "    \"Load English txt\"\n",
        "    data = open(path).read()\n",
        "    rows = data.split('\\n')\n",
        "    grams = {}\n",
        "    for row in rows:\n",
        "        key = \" \".join([word for word in row.split('\\t')[1:]])\n",
        "        v = int(row.split('\\t')[0])\n",
        "        grams[key] = v\n",
        "    return grams\n",
        "\n",
        "BI_GRAMS = open_data_grams('datasets/bigrams.txt')\n",
        "FIVE_GRAMS = open_data_grams('datasets/fivegrams.txt')"
      ]
    },
    {
      "cell_type": "markdown",
      "metadata": {},
      "source": [
        "## Norvig's solution"
      ]
    },
    {
      "cell_type": "code",
      "execution_count": 101,
      "metadata": {},
      "outputs": [],
      "source": [
        "class NorvigSpellChecker():\n",
        "    def __init__(self, letters:str) -> None:\n",
        "        self.letters = letters\n",
        "        pass\n",
        "\n",
        "    def add_grams(self, grams:dict):  \n",
        "        \"Append a dictionary of GRAMS with their frequencies\"  \n",
        "        self.GRAMS = grams\n",
        "        self.n_grams = len(list(self.GRAMS.keys())[0].split(' '))\n",
        "\n",
        "    def P(self, gram:str): \n",
        "        \"Probability of `gram`.\"\n",
        "        if 0 <= self.GRAMS[gram] <= 1:\n",
        "            return self.GRAMS[gram]\n",
        "        else: \n",
        "            return self.GRAMS[gram] / sum(self.GRAMS.values())\n",
        "\n",
        "    def correction(self, gram:str): \n",
        "        \"Most probable spelling correction for gram.\"\n",
        "        return max(self.candidates(gram), key=self.P)\n",
        "\n",
        "    def candidates(self, gram:str): \n",
        "        \"Generate possible spelling corrections for gram.\"\n",
        "        return (self.known([gram]) or self.known(self.edits1(gram)) or self.known(self.edits2(gram)) or [gram])\n",
        "\n",
        "    def known(self, grams:str): \n",
        "        \"The subset of `grams` that appear in the dictionary of GRAMS.\"\n",
        "        return set(g for g in grams if g in self.GRAMS)\n",
        "\n",
        "    def edits1(self, gram:str):\n",
        "        \"All edits that are one edit away from `gram`.\"\n",
        "        splits     = [(gram[:i], gram[i:])    for i in range(len(gram) + 1)]\n",
        "        deletes    = [L + R[1:]               for L, R in splits if R]\n",
        "        transposes = [L + R[1] + R[0] + R[2:] for L, R in splits if len(R)>1]\n",
        "        replaces   = [L + c + R[1:]           for L, R in splits if R for c in self.letters]\n",
        "        inserts    = [L + c + R               for L, R in splits for c in self.letters]\n",
        "        return set(deletes + transposes + replaces + inserts)\n",
        "\n",
        "    def edits2(self, gram:str): \n",
        "        \"All edits that are two edits away from `gram`.\"\n",
        "        return (e2 for e1 in self.edits1(gram) for e2 in self.edits1(e1))"
      ]
    },
    {
      "cell_type": "markdown",
      "metadata": {},
      "source": [
        "#### 1) Test Norvig's solution on bigram english data"
      ]
    },
    {
      "cell_type": "code",
      "execution_count": 102,
      "metadata": {},
      "outputs": [
        {
          "name": "stdout",
          "output_type": "stream",
          "text": [
            "Bigram data\n",
            "The frequency of gram `a aaa`: 1.08e-07\n",
            "The number of grams: 2\n"
          ]
        }
      ],
      "source": [
        "bi_sc = NorvigSpellChecker('abcdefghijklmnopqrstuvwxyz')\n",
        "bi_sc.add_grams(BI_GRAMS)\n",
        "print(\"Bigram data\")\n",
        "print(f\"The frequency of gram `a aaa`: {round(bi_sc.P('a aaa'), 9)}\")\n",
        "print(f\"The number of grams: {bi_sc.n_grams}\")"
      ]
    },
    {
      "cell_type": "code",
      "execution_count": 142,
      "metadata": {},
      "outputs": [
        {
          "data": {
            "text/plain": [
              "'a babysitter'"
            ]
          },
          "execution_count": 142,
          "metadata": {},
          "output_type": "execute_result"
        }
      ],
      "source": [
        "bi_sc.correction('a badysiter')"
      ]
    },
    {
      "cell_type": "markdown",
      "metadata": {},
      "source": [
        "#### 2) Test Norvig's solution on fivegram english data"
      ]
    },
    {
      "cell_type": "code",
      "execution_count": 103,
      "metadata": {},
      "outputs": [
        {
          "data": {
            "text/plain": [
              "'a babe in the woods'"
            ]
          },
          "execution_count": 103,
          "metadata": {},
          "output_type": "execute_result"
        }
      ],
      "source": [
        "list(FIVE_GRAMS.keys())[0]"
      ]
    },
    {
      "cell_type": "code",
      "execution_count": 104,
      "metadata": {},
      "outputs": [
        {
          "name": "stdout",
          "output_type": "stream",
          "text": [
            "Fivegram data\n",
            "The frequency of gram `a babe in the woods`: 9.73e-07\n",
            "The number of grams: 5\n"
          ]
        }
      ],
      "source": [
        "fv_sc = NorvigSpellChecker('abcdefghijklmnopqrstuvwxyz')\n",
        "fv_sc.add_grams(FIVE_GRAMS)\n",
        "print(\"Fivegram data\")\n",
        "print(f\"The frequency of gram `a babe in the woods`: {round(fv_sc.P('a babe in the woods'), 9)}\")\n",
        "print(f\"The number of grams: {fv_sc.n_grams}\")"
      ]
    },
    {
      "cell_type": "code",
      "execution_count": 114,
      "metadata": {},
      "outputs": [
        {
          "data": {
            "text/plain": [
              "{'married to the same man', 'married to the same woman'}"
            ]
          },
          "execution_count": 114,
          "metadata": {},
          "output_type": "execute_result"
        }
      ],
      "source": [
        "fv_sc.candidates('married to the same oman')"
      ]
    },
    {
      "cell_type": "markdown",
      "metadata": {},
      "source": [
        "## Improvement"
      ]
    },
    {
      "cell_type": "markdown",
      "metadata": {},
      "source": [
        "First of all, to improve Norvig's solution that was decided to adapted it for the Russian language, as it my native language and I familiar with it syntax and semantic, and, also to add an opportunity to apply keyboard layout for for spelling correction."
      ]
    },
    {
      "cell_type": "markdown",
      "metadata": {},
      "source": [
        "### 1) Spelling corrector for English language with an opportunity to apply keyboard layout."
      ]
    },
    {
      "cell_type": "code",
      "execution_count": 106,
      "metadata": {},
      "outputs": [],
      "source": [
        "class ENSpellChecker(NorvigSpellChecker):\n",
        "    \n",
        "    def __init__(self) -> None:\n",
        "        self.keyboard = ['qwertyuiop', 'asdfghjkl', 'zxcvbnm', ' ']\n",
        "        super().__init__('abcdefghijklmnopqrstuvwxyz ')\n",
        "\n",
        "    def find_keybord_distance(self, leter1:str, leter2:str):\n",
        "        \"Calulate distance between two letters in word according to their keyboard layout\"\n",
        "        r1, r2, c1, c2 = -1, -1, -1, -1\n",
        "        if leter1 == ' ' or leter2 == ' ':\n",
        "            for i, row in enumerate(self.keyboard, start=1):\n",
        "                if leter1 in row or leter2 in row:\n",
        "                    return 4 - i\n",
        "        for i, row in enumerate(self.keyboard):\n",
        "            if leter1 in row:\n",
        "                r1 = i\n",
        "                c1 = row.index(leter1)\n",
        "            if leter2 in row:\n",
        "                r2 = i\n",
        "                c2 = row.index(leter2)\n",
        "        \n",
        "        dist = max(abs(r1 - r2), abs(c1 - c2))\n",
        "        return dist\n",
        "\n",
        "    def keyboard_P(self, candidate_gram:str, gram:str):\n",
        "        \"Calculate the cost of `gram` with keyboard layout\"\n",
        "        keyboard_p = 0\n",
        "        for i, j in zip(candidate_gram, gram):\n",
        "            keyboard_p += self.find_keybord_distance(i, j)\n",
        "        return keyboard_p\n",
        "    \n",
        "    def is_correct(self, gram:str):\n",
        "        \"Check if gram is correct or not\"\n",
        "        return gram in self.GRAMS.keys()\n",
        "\n",
        "    def correction(self, gram:str, with_keyboard_layout:bool=False):\n",
        "        \"Most probable spelling correction for gram.\"\n",
        "        gram = gram.lower()\n",
        "        if with_keyboard_layout:\n",
        "            top3 = sorted(self.candidates(gram), key=self.P, reverse=True)[:3]\n",
        "            return min(top3, key=lambda candidate: self.keyboard_P(candidate, gram))\n",
        "        else: \n",
        "            return max(self.candidates(gram), key=self.P)"
      ]
    },
    {
      "cell_type": "markdown",
      "metadata": {},
      "source": [
        "* Test on bigram data"
      ]
    },
    {
      "cell_type": "code",
      "execution_count": 109,
      "metadata": {},
      "outputs": [
        {
          "name": "stdout",
          "output_type": "stream",
          "text": [
            "The `a coetect` is in the vocabulary: False\n",
            "With keyboard layout the correction of `a coetect`: a correct\n",
            "Without keyboard layout the correction of `a coetect`: a context\n"
          ]
        }
      ],
      "source": [
        "en_bi_sc = ENSpellChecker()\n",
        "en_bi_sc.add_grams(BI_GRAMS)\n",
        "print(f\"The `a coetect` is in the vocabulary: {en_bi_sc.is_correct('a coetect')}\")\n",
        "print(f\"With keyboard layout the correction of `a coetect`: {en_bi_sc.correction('a coetect', with_keyboard_layout=True)}\")\n",
        "print(f\"Without keyboard layout the correction of `a coetect`: {en_bi_sc.correction('a coetect', with_keyboard_layout=False)}\")"
      ]
    },
    {
      "cell_type": "code",
      "execution_count": 110,
      "metadata": {},
      "outputs": [
        {
          "name": "stdout",
          "output_type": "stream",
          "text": [
            "The `lghts shune` is in the vocabulary: False\n",
            "With keyboard layout the correction of `lghts shune`: lights shine\n",
            "Without keyboard layout the correction of `lghts shune`: lights shone\n"
          ]
        }
      ],
      "source": [
        "bigram = 'lghts shune'\n",
        "print(f\"The `{bigram}` is in the vocabulary: {en_bi_sc.is_correct(bigram)}\")\n",
        "print(f\"With keyboard layout the correction of `{bigram}`: {en_bi_sc.correction(bigram, with_keyboard_layout=True)}\")\n",
        "print(f\"Without keyboard layout the correction of `{bigram}`: {en_bi_sc.correction(bigram, with_keyboard_layout=False)}\")"
      ]
    },
    {
      "cell_type": "markdown",
      "metadata": {},
      "source": [
        "* Test on fivegram data"
      ]
    },
    {
      "cell_type": "code",
      "execution_count": 116,
      "metadata": {},
      "outputs": [
        {
          "name": "stdout",
          "output_type": "stream",
          "text": [
            "The `married to the same oman` is in the vocabulary: False\n",
            "With keyboard layout the correction of `married to the same oman`: married to the same man\n",
            "Without keyboard layout the correction of `married to the same oman`: married to the same woman\n"
          ]
        }
      ],
      "source": [
        "en_fv_sc = ENSpellChecker()\n",
        "en_fv_sc.add_grams(FIVE_GRAMS)\n",
        "fivegram = 'married to the same oman'\n",
        "print(f\"The `{fivegram}` is in the vocabulary: {en_fv_sc.is_correct(fivegram)}\")\n",
        "print(f\"With keyboard layout the correction of `{fivegram}`: {en_fv_sc.correction(fivegram, with_keyboard_layout=True)}\")\n",
        "print(f\"Without keyboard layout the correction of `{fivegram}`: {en_fv_sc.correction(fivegram, with_keyboard_layout=False)}\")"
      ]
    },
    {
      "cell_type": "markdown",
      "metadata": {},
      "source": [
        "### 2) Spelling corrector for Russian language with an opportunity to apply keyboard layout."
      ]
    },
    {
      "cell_type": "code",
      "execution_count": 151,
      "metadata": {},
      "outputs": [],
      "source": [
        "import re\n",
        "\n",
        "class RUSpellChecker(NorvigSpellChecker):\n",
        "    def __init__(self) -> None:\n",
        "        self.keyboard = ['йцукенгшщзхъ', 'фывапролджэ', 'ячсмитьбю', ' '] \n",
        "        super().__init__('абвгдеёжзийклмнопрстуфхцчшщъыьэюя ')\n",
        "    \n",
        "    def is_num(sel, gram:str):\n",
        "        \"Check if `_num_` in the gram\"\n",
        "        return re.findall('\\d+', gram)\n",
        "    \n",
        "    def find_keybord_distance(self, leter1:str, leter2:str):\n",
        "        \"Calulate distance between two letters in word according to their keyboard layout\"\n",
        "        r1, r2, c1, c2 = -1, -1, -1, -1\n",
        "        if leter1 == ' ' or leter2 == ' ':\n",
        "            for i, row in enumerate(self.keyboard, start=1):\n",
        "                if leter1 in row or leter2 in row:\n",
        "                    return 4 - i\n",
        "        for i, row in enumerate(self.keyboard):\n",
        "            if leter1 in row:\n",
        "                r1 = i\n",
        "                c1 = row.index(leter1)\n",
        "            if leter2 in row:\n",
        "                r2 = i\n",
        "                c2 = row.index(leter2)\n",
        "        \n",
        "        dist = max(abs(r1 - r2), abs(c1 - c2))\n",
        "        return dist\n",
        "\n",
        "    def keyboard_P(self, candidate_gram:str, gram:str):\n",
        "        \"Calculate the cost of `gram` with keyboard layout\"\n",
        "        keyboard_p = 0\n",
        "        for i, j in zip(candidate_gram, gram):\n",
        "            keyboard_p += self.find_keybord_distance(i, j)\n",
        "        return keyboard_p\n",
        "    \n",
        "    def correction(self, gram:str, with_keyboard_layout:bool=False): \n",
        "        \"Most probable spelling correction for gram.\"\n",
        "        gram = gram.lower()\n",
        "        if self.is_num(gram):\n",
        "            new_gram = re.sub('\\d+', '_num_', gram)\n",
        "            best = self.correct(new_gram, with_keyboard_layout)\n",
        "            correct = re.sub('_num_', self.is_num(gram)[0], best)\n",
        "            return correct\n",
        "        else:\n",
        "            return self.correct(gram, with_keyboard_layout)\n",
        "        \n",
        "    def correct(self, gram:str, with_keyboard_layout:bool=False):\n",
        "        \"Most probable spelling correction for gram.\"\n",
        "        gram = gram.lower()\n",
        "        if with_keyboard_layout:\n",
        "            top3 = sorted(self.candidates(gram), key=self.P, reverse=True)[:3]\n",
        "            return min(top3, key=lambda candidate: self.keyboard_P(candidate, gram))\n",
        "        else: \n",
        "            return max(self.candidates(gram), key=self.P)"
      ]
    },
    {
      "cell_type": "code",
      "execution_count": 152,
      "metadata": {},
      "outputs": [],
      "source": [
        "def open_rus_data_grams(path):\n",
        "    \"Load Russian txt\"\n",
        "    data = open(path, encoding=\"UTF-8\").read()\n",
        "    rows = data.split('\\n')\n",
        "    grams = {}\n",
        "    for row in rows:\n",
        "        if not row:\n",
        "            continue\n",
        "        key = \" \".join([word for word in row.split('\\t')[:-1]])\n",
        "        v = float(row.split('\\t')[-1])\n",
        "        grams[key] = v\n",
        "    return grams\n",
        "\n",
        "RUS_GRAMS = open_rus_data_grams('datasets/rus_bigrams.txt')"
      ]
    },
    {
      "cell_type": "code",
      "execution_count": 153,
      "metadata": {},
      "outputs": [
        {
          "name": "stdout",
          "output_type": "stream",
          "text": [
            "['об этом', '_num_ года', 'может быть', '_num_ году', '_num_ _num_', 'у него', 'у нас', 'у меня', 'потому что', 'ничего не']\n"
          ]
        }
      ],
      "source": [
        "data = list(RUS_GRAMS.keys())\n",
        "print(data[:10])"
      ]
    },
    {
      "cell_type": "code",
      "execution_count": 154,
      "metadata": {},
      "outputs": [
        {
          "name": "stdout",
          "output_type": "stream",
          "text": [
            "Testing Russian Corrector on `вот этоо`, the correction: вот это\n",
            "Testing Russian Corrector on `2457 гора` with numeric elements, the correction: 2457 года\n"
          ]
        }
      ],
      "source": [
        "ru_sc = RUSpellChecker()\n",
        "ru_sc.add_grams(RUS_GRAMS)\n",
        "print(f\"Testing Russian Corrector on `вот этоо`, the correction: {ru_sc.correction('вот этоо')}\")\n",
        "print(f\"Testing Russian Corrector on `2457 гора` with numeric elements, the correction: {ru_sc.correction('2457 гора')}\")"
      ]
    },
    {
      "cell_type": "markdown",
      "metadata": {},
      "source": [
        "### Applying for completed sentences"
      ]
    },
    {
      "cell_type": "code",
      "execution_count": 137,
      "metadata": {},
      "outputs": [
        {
          "name": "stdout",
          "output_type": "stream",
          "text": [
            "Correction of the sentence `i aggree wiht you`: i agree with you\n",
            "Correction of the sentence `у его нечего нет`: у него ничего нет\n"
          ]
        }
      ],
      "source": [
        "def sent_correction(corrector:NorvigSpellChecker, sent:str, with_keyboard_layout:bool=False):\n",
        "    \"Correcting whole sentences\"\n",
        "    n_grams = corrector.n_grams\n",
        "    i = 0\n",
        "    while i + n_grams <= len(sent.split(' ')):\n",
        "        gram = sent.split(' ')[i:i + n_grams]\n",
        "        gram = \" \".join(str(element) for element in gram)\n",
        "        i += 1\n",
        "        new_gram = corrector.correction(gram, with_keyboard_layout=with_keyboard_layout)\n",
        "        sent = sent.replace(gram, new_gram)\n",
        "    return sent\n",
        "\n",
        "print(f\"Correction of the sentence `i aggree wiht you`: {sent_correction(en_bi_sc, 'i aggree wiht you')}\")\n",
        "print(f\"Correction of the sentence `у его нечего нет`: {sent_correction(ru_sc, 'у его нечего нет')}\")"
      ]
    },
    {
      "cell_type": "code",
      "execution_count": 166,
      "metadata": {},
      "outputs": [
        {
          "name": "stdout",
          "output_type": "stream",
          "text": [
            "Correction of the sentence by bigram model: once upon a time for the girl who made a witch\n",
            "Correction of the sentence by bigram model: once upon a time for them girls who made a witch\n"
          ]
        }
      ],
      "source": [
        "sent = \"Once apon a time fot them girl who made a wisch\"\n",
        "print(f\"Correction of the sentence by bigram model: {sent_correction(en_bi_sc, sent)}\")\n",
        "print(f\"Correction of the sentence by bigram model: {sent_correction(en_bi_sc, sent, True)}\")\n",
        "# print(f\"Correction of the sentence by fivegram model: {sent_correction(en_fv_sc, sent)}\")"
      ]
    },
    {
      "cell_type": "markdown",
      "metadata": {
        "id": "oML-5sJwGRLE"
      },
      "source": [
        "## Justify your decisions\n",
        "\n",
        "Write down justificaitons for your implementation choices. For example, these choices could be:\n",
        "- Which ngram dataset to use\n",
        "- Which weights to assign for edit1, edit2 or absent words probabilities\n",
        "- Beam search parameters\n",
        "- etc."
      ]
    },
    {
      "cell_type": "markdown",
      "metadata": {
        "id": "6Xb_twOmVsC6"
      },
      "source": [
        "During the process, it was learned that the dataset of five grams was too small and many combinations seemed unfamiliar to the model unlike the bigrams dataset. Furthermore, fivegrams dataset would be more successful on long sentences."
      ]
    },
    {
      "cell_type": "markdown",
      "metadata": {
        "id": "46rk65S4GRSe"
      },
      "source": [
        "## Evaluate on a test set\n",
        "\n",
        "Your task is to generate a test set and evaluate your work. You may vary the noise probability to generate different datasets with varying compexity. Compare your solution to the Norvig's corrector, and report the accuracies."
      ]
    },
    {
      "cell_type": "markdown",
      "metadata": {},
      "source": [
        "#### 1) Evaluating of english corrector "
      ]
    },
    {
      "cell_type": "code",
      "execution_count": 139,
      "metadata": {
        "id": "OwZWaX9VVs7B"
      },
      "outputs": [],
      "source": [
        "# The test sets were generated by CHAT GPT\n",
        "\n",
        "english_test = [\n",
        "    \"I love too eat ice cream\", \n",
        "    \"She is very quite in class\",\n",
        "    \"The whether is changing\",\n",
        "    \"He bougth a pare of shoes\",\n",
        "    \"The cat is laying im the sun\",\n",
        "    \"She can heae the music from the next room\",\n",
        "    \"I would like some mote cofee\",\n",
        "    \"The restaran is loosing money\",\n",
        "    \"He asjed for a piece of pir\"\n",
        "    ]\n",
        "\n",
        "english_true = [\n",
        "    \"I love to eat ice cream\", \n",
        "    \"She is very quiet in class\",\n",
        "    \"The weather is changing\",\n",
        "    \"He bought a pair of shoes\",\n",
        "    \"The cat is lying in the sun\",\n",
        "    \"She can hear the music from the next room\",\n",
        "    \"I would like some more coffee\",\n",
        "    \"The restaurant is losing money\",\n",
        "    \"He asked for a piece of pie\"\n",
        "]"
      ]
    },
    {
      "cell_type": "markdown",
      "metadata": {},
      "source": [
        "* Without keyboard layout (Norvig's solution)"
      ]
    },
    {
      "cell_type": "code",
      "execution_count": 140,
      "metadata": {},
      "outputs": [
        {
          "name": "stdout",
          "output_type": "stream",
          "text": [
            "i love to eat ice cream == i love to eat ice cream\n",
            "she is very quiet in class == she is very quiet in class\n",
            "them whether it changing != the weather is changing\n",
            "he bought a part of shoes != he bought a pair of shoes\n",
            "the cat is laying in the sun != the cat is lying in the sun\n",
            "she can hear the music from the next room == she can hear the music from the next room\n",
            "i would like some more coffee == i would like some more coffee\n",
            "the restaurant is losing money == the restaurant is losing money\n",
            "he asked for a piece of air != he asked for a piece of pie\n"
          ]
        }
      ],
      "source": [
        "for sent, true in zip(english_test, english_true):\n",
        "    sent = sent.lower()\n",
        "    true = true.lower()\n",
        "    correction = sent_correction(en_bi_sc, sent)\n",
        "    if correction == true:\n",
        "        print(f\"{correction} == {true}\")\n",
        "    else:\n",
        "        print(f\"{correction} != {true}\")"
      ]
    },
    {
      "cell_type": "markdown",
      "metadata": {},
      "source": [
        "The result: english corrector without keyboard layout corrected 5 out of 9 sentences."
      ]
    },
    {
      "cell_type": "markdown",
      "metadata": {},
      "source": [
        "* With keyboard layout"
      ]
    },
    {
      "cell_type": "code",
      "execution_count": 141,
      "metadata": {},
      "outputs": [
        {
          "name": "stdout",
          "output_type": "stream",
          "text": [
            "i love too eat ice cream != i love to eat ice cream\n",
            "she is very quiet in class == she is very quiet in class\n",
            "then whether a changing != the weather is changing\n",
            "he bought a page of shoes != he bought a pair of shoes\n",
            "the cat is laying in the sun != the cat is lying in the sun\n",
            "she can hear the music from the next room == she can hear the music from the next room\n",
            "i would like some more coffee == i would like some more coffee\n",
            "the restart it looking more != the restaurant is losing money\n",
            "he asked for a piece of pie == he asked for a piece of pie\n"
          ]
        }
      ],
      "source": [
        "for sent, true in zip(english_test, english_true):\n",
        "    sent = sent.lower()\n",
        "    true = true.lower()\n",
        "    correction = sent_correction(en_bi_sc, sent, with_keyboard_layout=True)\n",
        "    if correction == true:\n",
        "        print(f\"{correction} == {true}\")\n",
        "    else:\n",
        "        print(f\"{correction} != {true}\")"
      ]
    },
    {
      "cell_type": "markdown",
      "metadata": {},
      "source": [
        "The result: english corrector with keyboard layout corrected 4 out of 9 sentences."
      ]
    },
    {
      "cell_type": "code",
      "execution_count": 159,
      "metadata": {},
      "outputs": [
        {
          "name": "stdout",
          "output_type": "stream",
          "text": [
            "Correction of the sentence by bigram model: to improve the solution they was decided to add the russian language as if my native language and a familiar with it sunday and semantic and to add an opportunity to apply any word about for collection\n",
            "Correction of the sentence by bigram model: to impose the solution they was decided to add the russian language as i my native language and a familiar with it sunday and semantic and to add as opportunity to apply my word about for collection\n"
          ]
        }
      ],
      "source": [
        "sent = \"To impove the solusion they was decided too add the Russia languag as ir my native language and I familar wiht it suntax and semantik and to add a opportunety to apply key bord layout for colection.\"\n",
        "print(f\"Correction of the sentence by bigram model: {sent_correction(en_bi_sc, sent)}\")\n",
        "print(f\"Correction of the sentence by bigram model: {sent_correction(en_bi_sc, sent, True)}\")"
      ]
    },
    {
      "cell_type": "markdown",
      "metadata": {},
      "source": [
        "#### 1) Evaluating of russian corrector "
      ]
    },
    {
      "cell_type": "code",
      "execution_count": 218,
      "metadata": {},
      "outputs": [],
      "source": [
        "russian_test = [\n",
        "    \"Я купили билет на рынке\",\n",
        "    \"Мы пойдем на балл\",\n",
        "    \"Она выгледит очень хорошо\",\n",
        "    \"Вчера был тижeлый день на работе\",\n",
        "    \"Он учитса в университет\",\n",
        "    \"Эта требует вркмени\",\n",
        "    \"Я встречаюс с ней ужe два нода\",\n",
        "    \"Мы собираемса на море в июне\",\n",
        "    \"Пулец вылетела из могил\",\n",
        "    \"Я работаю в крупная копмании\",\n",
        "    \"Он часто бфвает на море\"\n",
        "]\n",
        "\n",
        "russian_true = [\n",
        "    \"Я купил билет на рынке\",\n",
        "    \"Мы пойдем на бал\",\n",
        "    \"Она выглядит очень хорошо\",\n",
        "    \"Вчера был тяжeлый день на работе\",\n",
        "    \"Он учится в университете\",\n",
        "    \"Это требует времени\",\n",
        "    \"Я встречаюс с ней ужe два нода\",\n",
        "    \"Мы собираемса на море в июне\",\n",
        "    \"Пулец вылетела из могил\",\n",
        "    \"Я работаю в крупная копмании\",\n",
        "    \"Он часто бфвает на море\"\n",
        "]\n"
      ]
    },
    {
      "cell_type": "markdown",
      "metadata": {},
      "source": [
        "* Without keyboard layout (Norvig's solution)"
      ]
    },
    {
      "cell_type": "code",
      "execution_count": 219,
      "metadata": {},
      "outputs": [
        {
          "name": "stdout",
          "output_type": "stream",
          "text": [
            "я купил билет на рынке == я купил билет на рынке\n",
            "мы пойдет на бали != мы пойдем на бал\n",
            "она выглядит очень хорошо == она выглядит очень хорошо\n"
          ]
        },
        {
          "name": "stdout",
          "output_type": "stream",
          "text": [
            "вчера был тяжелый цены на работе != вчера был тяжeлый день на работе\n",
            "он учился в университет != он учится в университете\n",
            "это требует времени == это требует времени\n",
            "я встреча с нет уже два года != я встречаюс с ней ужe два нода\n",
            "мы собираемся в морем в июне != мы собираемса на море в июне\n",
            "пулей вылетела из могилы != пулец вылетела из могил\n",
            "я работаю в крупные компании != я работаю в крупная копмании\n",
            "он часто бывает на море != он часто бфвает на море\n"
          ]
        }
      ],
      "source": [
        "for sent, true in zip(russian_test, russian_true):\n",
        "    sent = sent.lower()\n",
        "    true = true.lower()\n",
        "    correction = sent_correction(ru_sc, sent, with_keyboard_layout=False)\n",
        "    if correction == true:\n",
        "        print(f\"{correction} == {true}\")\n",
        "    else:\n",
        "        print(f\"{correction} != {true}\")"
      ]
    },
    {
      "cell_type": "markdown",
      "metadata": {},
      "source": [
        "The result: russian corrector without keyboard layout corrected 3 out of 11 sentences."
      ]
    },
    {
      "cell_type": "markdown",
      "metadata": {},
      "source": [
        "* With keyboard layout"
      ]
    },
    {
      "cell_type": "code",
      "execution_count": 220,
      "metadata": {},
      "outputs": [
        {
          "name": "stdout",
          "output_type": "stream",
          "text": [
            "я купил билет на рынке == я купил билет на рынке\n",
            "мы пойдет на бал != мы пойдем на бал\n",
            "она выглядит очень хорошо == она выглядит очень хорошо\n",
            "вчера был тяжелый деньги на работе != вчера был тяжeлый день на работе\n",
            "он учился в университет != он учится в университете\n",
            "это требует времени == это требует времени\n",
            "я встреча с нет уже два года != я встречаюс с ней ужe два нода\n",
            "мы собираемся в морем в июне != мы собираемса на море в июне\n",
            "пулей вылетела из могилы != пулец вылетела из могил\n",
            "я работаю в крупных компаний != я работаю в крупная копмании\n",
            "он часто бывает на море != он часто бфвает на море\n"
          ]
        }
      ],
      "source": [
        "for sent, true in zip(russian_test, russian_true):\n",
        "    sent = sent.lower()\n",
        "    true = true.lower()\n",
        "    correction = sent_correction(ru_sc, sent, with_keyboard_layout=True)\n",
        "    if correction == true:\n",
        "        print(f\"{correction} == {true}\")\n",
        "    else:\n",
        "        print(f\"{correction} != {true}\")"
      ]
    },
    {
      "cell_type": "markdown",
      "metadata": {},
      "source": [
        "The result: russian corrector with keyboard layout corrected 3 out of 11 sentences."
      ]
    },
    {
      "cell_type": "markdown",
      "metadata": {},
      "source": [
        "# Conclusion \n",
        "\n",
        "\n",
        "I explored Norvig's solution and have extended the algorithm to consider keyboard layout and correct Russian language (instead of English). As in Norvig's I have used the notion of edit distance (or Levenstein distance), but with an important advancement. Costs were weighted by the distance between letters on keyboard. For example, replacing \"а\" with \"я\" will cost less, than \"а\" with \"э\" as they are located in different parts of keyboard.\n",
        "\n",
        "I have evaluated the algorithm on a limited set of Russian sentences. As the dataset was not large enough, the change in performance was slight. I consider that the dataset contain too little of n-grams for the arbitrary sentences in Russian to be corrected with high accuracy.\n",
        "\n",
        "This version of the algorithm tends to be biased to spelling mistakes rather than to semantic ones. That is directly explained by the change introduced to the edit distance algorithm."
      ]
    }
  ],
  "metadata": {
    "colab": {
      "provenance": []
    },
    "kernelspec": {
      "display_name": "Python 3",
      "name": "python3"
    },
    "language_info": {
      "codemirror_mode": {
        "name": "ipython",
        "version": 3
      },
      "file_extension": ".py",
      "mimetype": "text/x-python",
      "name": "python",
      "nbconvert_exporter": "python",
      "pygments_lexer": "ipython3",
      "version": "3.10.11"
    }
  },
  "nbformat": 4,
  "nbformat_minor": 0
}
